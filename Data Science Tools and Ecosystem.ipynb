{
 "cells": [
  {
   "cell_type": "markdown",
   "id": "cc5b3de1",
   "metadata": {},
   "source": [
    "# Data Science Tools and Ecosystem"
   ]
  },
  {
   "cell_type": "markdown",
   "id": "8b796764",
   "metadata": {},
   "source": [
    "## Introduction\n",
    "This notebook provides an overview of Data Science tools, libraries, and languages, along with examples of arithmetic operations."
   ]
  },
  {
   "cell_type": "markdown",
   "id": "0fad3a12",
   "metadata": {},
   "source": [
    "## Data Science Languages\n",
    "- Python\n",
    "- R\n",
    "- SQL\n",
    "- Julia\n",
    "- Scala"
   ]
  },
  {
   "cell_type": "markdown",
   "id": "c68d4574",
   "metadata": {},
   "source": [
    "## Data Science Libraries\n",
    "- NumPy\n",
    "- Pandas\n",
    "- Matplotlib\n",
    "- Scikit-learn\n",
    "- TensorFlow"
   ]
  },
  {
   "cell_type": "markdown",
   "id": "1abcaa6d",
   "metadata": {},
   "source": [
    "## Data Science Tools\n",
    "| Tool             | Description                     |\n",
    "|------------------|---------------------------------|\n",
    "| Jupyter Notebook | Interactive computing platform |\n",
    "| RStudio          | IDE for R                      |\n",
    "| Apache Spark     | Big data processing framework  |"
   ]
  },
  {
   "cell_type": "markdown",
   "id": "11696eed",
   "metadata": {},
   "source": [
    "## Arithmetic Expression Examples\n",
    "Below are examples of basic arithmetic operations such as addition, multiplication, and division."
   ]
  },
  {
   "cell_type": "code",
   "execution_count": 1,
   "id": "a7eeec55",
   "metadata": {},
   "outputs": [
    {
     "data": {
      "text/plain": [
       "23"
      ]
     },
     "execution_count": 1,
     "metadata": {},
     "output_type": "execute_result"
    }
   ],
   "source": [
    "# Multiply and add numbers\n",
    "(5 * 4) + 3"
   ]
  },
  {
   "cell_type": "code",
   "execution_count": 2,
   "id": "e31e8aa9",
   "metadata": {},
   "outputs": [
    {
     "data": {
      "text/plain": [
       "2.0"
      ]
     },
     "execution_count": 2,
     "metadata": {},
     "output_type": "execute_result"
    }
   ],
   "source": [
    "# Convert minutes to hours\n",
    "minutes = 120\n",
    "hours = minutes / 60\n",
    "hours"
   ]
  },
  {
   "cell_type": "markdown",
   "id": "87624f2a",
   "metadata": {},
   "source": [
    "## Objectives\n",
    "- Learn about Data Science languages\n",
    "- Explore popular libraries and tools\n",
    "- Practice arithmetic operations\n",
    "- Understand data manipulation techniques"
   ]
  },
  {
   "cell_type": "markdown",
   "id": "cbad7dc7",
   "metadata": {},
   "source": [
    "## Author\n",
    "Het patel"
   ]
  },
  {
   "cell_type": "markdown",
   "id": "c685348e",
   "metadata": {},
   "source": []
  }
 ],
 "metadata": {
  "kernelspec": {
   "display_name": "base",
   "language": "python",
   "name": "python3"
  },
  "language_info": {
   "codemirror_mode": {
    "name": "ipython",
    "version": 3
   },
   "file_extension": ".py",
   "mimetype": "text/x-python",
   "name": "python",
   "nbconvert_exporter": "python",
   "pygments_lexer": "ipython3",
   "version": "3.11.5"
  }
 },
 "nbformat": 4,
 "nbformat_minor": 5
}
